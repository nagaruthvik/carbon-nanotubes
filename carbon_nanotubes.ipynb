{
  "nbformat": 4,
  "nbformat_minor": 0,
  "metadata": {
    "colab": {
      "provenance": []
    },
    "kernelspec": {
      "name": "python3",
      "display_name": "Python 3"
    },
    "language_info": {
      "name": "python"
    }
  },
  "cells": [
    {
      "cell_type": "code",
      "execution_count": null,
      "metadata": {
        "colab": {
          "base_uri": "https://localhost:8080/",
          "height": 485
        },
        "id": "zmT14yMI8pEi",
        "outputId": "688f7c33-26b8-455b-8219-bef6359f4121"
      },
      "outputs": [
        {
          "output_type": "execute_result",
          "data": {
            "text/plain": [
              "       Chiral indice n  Chiral indice m  Initial atomic coordinate u  \\\n",
              "0                    2                1                     0.679005   \n",
              "1                    2                1                     0.717298   \n",
              "2                    2                1                     0.489336   \n",
              "3                    2                1                     0.413957   \n",
              "4                    2                1                     0.334292   \n",
              "...                ...              ...                          ...   \n",
              "10716               12                6                     0.834201   \n",
              "10717               12                6                     0.698374   \n",
              "10718               12                6                     0.923823   \n",
              "10719               12                6                     0.934978   \n",
              "10720               12                6                     0.953664   \n",
              "\n",
              "       Initial atomic coordinate v  Initial atomic coordinate w  \\\n",
              "0                         0.701318                     0.017033   \n",
              "1                         0.642129                     0.231319   \n",
              "2                         0.303751                     0.088462   \n",
              "3                         0.632996                     0.040843   \n",
              "4                         0.543401                     0.159890   \n",
              "...                            ...                          ...   \n",
              "10716                     0.399891                     0.891270   \n",
              "10717                     0.244710                     0.962699   \n",
              "10718                     0.568913                     0.819842   \n",
              "10719                     0.602319                     0.938889   \n",
              "10720                     0.698374                     0.962699   \n",
              "\n",
              "       Calculated atomic coordinates u'  Calculated atomic coordinates v'  \\\n",
              "0                              0.721039                          0.730232   \n",
              "1                              0.738414                          0.656750   \n",
              "2                              0.477676                          0.263221   \n",
              "3                              0.408823                          0.657897   \n",
              "4                              0.303349                          0.558807   \n",
              "...                                 ...                               ...   \n",
              "10716                          0.841858                          0.405882   \n",
              "10717                          0.706555                          0.248416   \n",
              "10718                          0.929403                          0.576284   \n",
              "10719                          0.941844                          0.610608   \n",
              "10720                          0.961243                          0.707812   \n",
              "\n",
              "       Calculated atomic coordinates w'  \n",
              "0                              0.017014  \n",
              "1                              0.232369  \n",
              "2                              0.088712  \n",
              "3                              0.039796  \n",
              "4                              0.157373  \n",
              "...                                 ...  \n",
              "10716                          0.891356  \n",
              "10717                          0.962833  \n",
              "10718                          0.819879  \n",
              "10719                          0.938755  \n",
              "10720                          0.962605  \n",
              "\n",
              "[10721 rows x 8 columns]"
            ],
            "text/html": [
              "\n",
              "  <div id=\"df-05f27125-150b-4f2c-89fd-acdde085f94d\">\n",
              "    <div class=\"colab-df-container\">\n",
              "      <div>\n",
              "<style scoped>\n",
              "    .dataframe tbody tr th:only-of-type {\n",
              "        vertical-align: middle;\n",
              "    }\n",
              "\n",
              "    .dataframe tbody tr th {\n",
              "        vertical-align: top;\n",
              "    }\n",
              "\n",
              "    .dataframe thead th {\n",
              "        text-align: right;\n",
              "    }\n",
              "</style>\n",
              "<table border=\"1\" class=\"dataframe\">\n",
              "  <thead>\n",
              "    <tr style=\"text-align: right;\">\n",
              "      <th></th>\n",
              "      <th>Chiral indice n</th>\n",
              "      <th>Chiral indice m</th>\n",
              "      <th>Initial atomic coordinate u</th>\n",
              "      <th>Initial atomic coordinate v</th>\n",
              "      <th>Initial atomic coordinate w</th>\n",
              "      <th>Calculated atomic coordinates u'</th>\n",
              "      <th>Calculated atomic coordinates v'</th>\n",
              "      <th>Calculated atomic coordinates w'</th>\n",
              "    </tr>\n",
              "  </thead>\n",
              "  <tbody>\n",
              "    <tr>\n",
              "      <th>0</th>\n",
              "      <td>2</td>\n",
              "      <td>1</td>\n",
              "      <td>0.679005</td>\n",
              "      <td>0.701318</td>\n",
              "      <td>0.017033</td>\n",
              "      <td>0.721039</td>\n",
              "      <td>0.730232</td>\n",
              "      <td>0.017014</td>\n",
              "    </tr>\n",
              "    <tr>\n",
              "      <th>1</th>\n",
              "      <td>2</td>\n",
              "      <td>1</td>\n",
              "      <td>0.717298</td>\n",
              "      <td>0.642129</td>\n",
              "      <td>0.231319</td>\n",
              "      <td>0.738414</td>\n",
              "      <td>0.656750</td>\n",
              "      <td>0.232369</td>\n",
              "    </tr>\n",
              "    <tr>\n",
              "      <th>2</th>\n",
              "      <td>2</td>\n",
              "      <td>1</td>\n",
              "      <td>0.489336</td>\n",
              "      <td>0.303751</td>\n",
              "      <td>0.088462</td>\n",
              "      <td>0.477676</td>\n",
              "      <td>0.263221</td>\n",
              "      <td>0.088712</td>\n",
              "    </tr>\n",
              "    <tr>\n",
              "      <th>3</th>\n",
              "      <td>2</td>\n",
              "      <td>1</td>\n",
              "      <td>0.413957</td>\n",
              "      <td>0.632996</td>\n",
              "      <td>0.040843</td>\n",
              "      <td>0.408823</td>\n",
              "      <td>0.657897</td>\n",
              "      <td>0.039796</td>\n",
              "    </tr>\n",
              "    <tr>\n",
              "      <th>4</th>\n",
              "      <td>2</td>\n",
              "      <td>1</td>\n",
              "      <td>0.334292</td>\n",
              "      <td>0.543401</td>\n",
              "      <td>0.159890</td>\n",
              "      <td>0.303349</td>\n",
              "      <td>0.558807</td>\n",
              "      <td>0.157373</td>\n",
              "    </tr>\n",
              "    <tr>\n",
              "      <th>...</th>\n",
              "      <td>...</td>\n",
              "      <td>...</td>\n",
              "      <td>...</td>\n",
              "      <td>...</td>\n",
              "      <td>...</td>\n",
              "      <td>...</td>\n",
              "      <td>...</td>\n",
              "      <td>...</td>\n",
              "    </tr>\n",
              "    <tr>\n",
              "      <th>10716</th>\n",
              "      <td>12</td>\n",
              "      <td>6</td>\n",
              "      <td>0.834201</td>\n",
              "      <td>0.399891</td>\n",
              "      <td>0.891270</td>\n",
              "      <td>0.841858</td>\n",
              "      <td>0.405882</td>\n",
              "      <td>0.891356</td>\n",
              "    </tr>\n",
              "    <tr>\n",
              "      <th>10717</th>\n",
              "      <td>12</td>\n",
              "      <td>6</td>\n",
              "      <td>0.698374</td>\n",
              "      <td>0.244710</td>\n",
              "      <td>0.962699</td>\n",
              "      <td>0.706555</td>\n",
              "      <td>0.248416</td>\n",
              "      <td>0.962833</td>\n",
              "    </tr>\n",
              "    <tr>\n",
              "      <th>10718</th>\n",
              "      <td>12</td>\n",
              "      <td>6</td>\n",
              "      <td>0.923823</td>\n",
              "      <td>0.568913</td>\n",
              "      <td>0.819842</td>\n",
              "      <td>0.929403</td>\n",
              "      <td>0.576284</td>\n",
              "      <td>0.819879</td>\n",
              "    </tr>\n",
              "    <tr>\n",
              "      <th>10719</th>\n",
              "      <td>12</td>\n",
              "      <td>6</td>\n",
              "      <td>0.934978</td>\n",
              "      <td>0.602319</td>\n",
              "      <td>0.938889</td>\n",
              "      <td>0.941844</td>\n",
              "      <td>0.610608</td>\n",
              "      <td>0.938755</td>\n",
              "    </tr>\n",
              "    <tr>\n",
              "      <th>10720</th>\n",
              "      <td>12</td>\n",
              "      <td>6</td>\n",
              "      <td>0.953664</td>\n",
              "      <td>0.698374</td>\n",
              "      <td>0.962699</td>\n",
              "      <td>0.961243</td>\n",
              "      <td>0.707812</td>\n",
              "      <td>0.962605</td>\n",
              "    </tr>\n",
              "  </tbody>\n",
              "</table>\n",
              "<p>10721 rows × 8 columns</p>\n",
              "</div>\n",
              "      <button class=\"colab-df-convert\" onclick=\"convertToInteractive('df-05f27125-150b-4f2c-89fd-acdde085f94d')\"\n",
              "              title=\"Convert this dataframe to an interactive table.\"\n",
              "              style=\"display:none;\">\n",
              "        \n",
              "  <svg xmlns=\"http://www.w3.org/2000/svg\" height=\"24px\"viewBox=\"0 0 24 24\"\n",
              "       width=\"24px\">\n",
              "    <path d=\"M0 0h24v24H0V0z\" fill=\"none\"/>\n",
              "    <path d=\"M18.56 5.44l.94 2.06.94-2.06 2.06-.94-2.06-.94-.94-2.06-.94 2.06-2.06.94zm-11 1L8.5 8.5l.94-2.06 2.06-.94-2.06-.94L8.5 2.5l-.94 2.06-2.06.94zm10 10l.94 2.06.94-2.06 2.06-.94-2.06-.94-.94-2.06-.94 2.06-2.06.94z\"/><path d=\"M17.41 7.96l-1.37-1.37c-.4-.4-.92-.59-1.43-.59-.52 0-1.04.2-1.43.59L10.3 9.45l-7.72 7.72c-.78.78-.78 2.05 0 2.83L4 21.41c.39.39.9.59 1.41.59.51 0 1.02-.2 1.41-.59l7.78-7.78 2.81-2.81c.8-.78.8-2.07 0-2.86zM5.41 20L4 18.59l7.72-7.72 1.47 1.35L5.41 20z\"/>\n",
              "  </svg>\n",
              "      </button>\n",
              "      \n",
              "  <style>\n",
              "    .colab-df-container {\n",
              "      display:flex;\n",
              "      flex-wrap:wrap;\n",
              "      gap: 12px;\n",
              "    }\n",
              "\n",
              "    .colab-df-convert {\n",
              "      background-color: #E8F0FE;\n",
              "      border: none;\n",
              "      border-radius: 50%;\n",
              "      cursor: pointer;\n",
              "      display: none;\n",
              "      fill: #1967D2;\n",
              "      height: 32px;\n",
              "      padding: 0 0 0 0;\n",
              "      width: 32px;\n",
              "    }\n",
              "\n",
              "    .colab-df-convert:hover {\n",
              "      background-color: #E2EBFA;\n",
              "      box-shadow: 0px 1px 2px rgba(60, 64, 67, 0.3), 0px 1px 3px 1px rgba(60, 64, 67, 0.15);\n",
              "      fill: #174EA6;\n",
              "    }\n",
              "\n",
              "    [theme=dark] .colab-df-convert {\n",
              "      background-color: #3B4455;\n",
              "      fill: #D2E3FC;\n",
              "    }\n",
              "\n",
              "    [theme=dark] .colab-df-convert:hover {\n",
              "      background-color: #434B5C;\n",
              "      box-shadow: 0px 1px 3px 1px rgba(0, 0, 0, 0.15);\n",
              "      filter: drop-shadow(0px 1px 2px rgba(0, 0, 0, 0.3));\n",
              "      fill: #FFFFFF;\n",
              "    }\n",
              "  </style>\n",
              "\n",
              "      <script>\n",
              "        const buttonEl =\n",
              "          document.querySelector('#df-05f27125-150b-4f2c-89fd-acdde085f94d button.colab-df-convert');\n",
              "        buttonEl.style.display =\n",
              "          google.colab.kernel.accessAllowed ? 'block' : 'none';\n",
              "\n",
              "        async function convertToInteractive(key) {\n",
              "          const element = document.querySelector('#df-05f27125-150b-4f2c-89fd-acdde085f94d');\n",
              "          const dataTable =\n",
              "            await google.colab.kernel.invokeFunction('convertToInteractive',\n",
              "                                                     [key], {});\n",
              "          if (!dataTable) return;\n",
              "\n",
              "          const docLinkHtml = 'Like what you see? Visit the ' +\n",
              "            '<a target=\"_blank\" href=https://colab.research.google.com/notebooks/data_table.ipynb>data table notebook</a>'\n",
              "            + ' to learn more about interactive tables.';\n",
              "          element.innerHTML = '';\n",
              "          dataTable['output_type'] = 'display_data';\n",
              "          await google.colab.output.renderOutput(dataTable, element);\n",
              "          const docLink = document.createElement('div');\n",
              "          docLink.innerHTML = docLinkHtml;\n",
              "          element.appendChild(docLink);\n",
              "        }\n",
              "      </script>\n",
              "    </div>\n",
              "  </div>\n",
              "  "
            ]
          },
          "metadata": {},
          "execution_count": 58
        }
      ],
      "source": [
        "import sklearn\n",
        "from sklearn import preprocessing\n",
        "from sklearn.model_selection import train_test_split\n",
        "from sklearn.metrics import mean_squared_error as mse\n",
        "import math\n",
        "from sklearn.model_selection import GridSearchCV\n",
        "from sklearn.linear_model import LinearRegression\n",
        "from sklearn.metrics import r2_score\n",
        "from matplotlib import pyplot as plt\n",
        "import pandas as pd\n",
        "\n",
        "df = pd.read_csv('/content/carbon_nanotubes.csv',delimiter=\";\",decimal=\",\")\n",
        "\n",
        "# simple data cleaning\n",
        "df"
      ]
    },
    {
      "cell_type": "code",
      "source": [
        "import matplotlib.pyplot as plt\n",
        "plt.scatter(df['Initial atomic coordinate u'],df[\"Calculated atomic coordinates u'\"],alpha=0.5)\n",
        "plt.xlabel('Initial atomic coordinate u')\n",
        "plt.ylabel(\"Calculated atomic coordinates u\")\n",
        "plt.show()"
      ],
      "metadata": {
        "colab": {
          "base_uri": "https://localhost:8080/",
          "height": 452
        },
        "id": "SmMz7yK4HuK4",
        "outputId": "5275e302-ac21-4565-a43d-8d6d487c4718"
      },
      "execution_count": null,
      "outputs": [
        {
          "output_type": "display_data",
          "data": {
            "text/plain": [
              "<Figure size 640x480 with 1 Axes>"
            ],
            "image/png": "[encoded data removed]"
          },
          "metadata": {}
        }
      ]
    },
    {
      "cell_type": "code",
      "source": [
        "plt.scatter(df['Initial atomic coordinate v'],df[\"Calculated atomic coordinates v'\"],alpha=0.5)\n",
        "plt.xlabel('Initial atomic coordinate v')\n",
        "plt.ylabel(\"Calculated atomic coordinates v\")\n",
        "plt.show()"
      ],
      "metadata": {
        "colab": {
          "base_uri": "https://localhost:8080/",
          "height": 452
        },
        "id": "dS4b7n1RIJ45",
        "outputId": "20a09404-3bc1-40de-b554-1d674349088e"
      },
      "execution_count": null,
      "outputs": [
        {
          "output_type": "display_data",
          "data": {
            "text/plain": [
              "<Figure size 640x480 with 1 Axes>"
            ],
            "image/png": "[encoded data removed]"
          },
          "metadata": {}
        }
      ]
    },
    {
      "cell_type": "code",
      "source": [
        "plt.scatter(df['Initial atomic coordinate w'],df[\"Calculated atomic coordinates w'\"],alpha=0.5)\n",
        "plt.xlabel('Initial atomic coordinate w')\n",
        "plt.ylabel(\"Calculated atomic coordinates w\")\n",
        "plt.show()"
      ],
      "metadata": {
        "colab": {
          "base_uri": "https://localhost:8080/",
          "height": 449
        },
        "id": "aG0MAmxFIVac",
        "outputId": "35ceac34-dc23-4aa6-d330-5146ece66501"
      },
      "execution_count": null,
      "outputs": [
        {
          "output_type": "display_data",
          "data": {
            "text/plain": [
              "<Figure size 640x480 with 1 Axes>"
            ],
            "image/png": "[encoded data removed]"
          },
          "metadata": {}
        }
      ]
    },
    {
      "cell_type": "code",
      "source": [],
      "metadata": {
        "id": "RmJUV5scT-bj"
      },
      "execution_count": null,
      "outputs": []
    },
    {
      "cell_type": "code",
      "source": [
        "\n",
        "X_set = df[[\"Chiral indice n\",\"Chiral indice m\",\"Initial atomic coordinate u\",\"Initial atomic coordinate v\",\"Initial atomic coordinate w\"]]\n",
        "y_set = df[[\"Calculated atomic coordinates u'\", \"Calculated atomic coordinates v'\", \"Calculated atomic coordinates w'\"]]\n",
        "X_train, X_test, y_train, y_test = train_test_split(X_set, y_set, test_size=0.2, random_state=42)"
      ],
      "metadata": {
        "id": "CWKr2zvm856I"
      },
      "execution_count": null,
      "outputs": []
    },
    {
      "cell_type": "markdown",
      "source": [
        "# **LINEAR REGRESSION**"
      ],
      "metadata": {
        "id": "mIOf71TObGD5"
      }
    },
    {
      "cell_type": "code",
      "source": [
        "\n",
        "\n",
        "model1=LinearRegression()\n",
        "model1.fit(X_train,y_train)\n",
        "lr_y_pred=model1.predict(X_train)\n",
        "lr_r2_score=r2_score(lr_y_pred,y_train)\n",
        "mse_lr = mse(y_train,lr_y_pred)\n",
        "print(\"r2_score of Linear Regression : \",lr_r2_score)\n",
        "print(\"mean square error of Linear Regression : \", mse_lr)\n",
        "print(\"root mean square error of Linear Regression : \",math.sqrt(mse_lr))\n",
        "print(lr_y_pred)"
      ],
      "metadata": {
        "id": "g--O73td_Xv4",
        "colab": {
          "base_uri": "https://localhost:8080/"
        },
        "outputId": "9a8c400e-4e6c-4d1d-f682-69109e886a88"
      },
      "execution_count": null,
      "outputs": [
        {
          "output_type": "stream",
          "name": "stdout",
          "text": [
            "r2_score of Linear Regression :  0.9990530554004003\n",
            "mean square error of Linear Regression :  7.908761642576763e-05\n",
            "root mean square error of Linear Regression :  0.008893121860503634\n",
            "[[0.08670732 0.33190611 0.53816623]\n",
            " [0.5519625  0.86560371 0.64437793]\n",
            " [0.25648973 0.05818266 0.11020355]\n",
            " ...\n",
            " [0.84264353 0.8912394  0.81998328]\n",
            " [0.48100516 0.17624182 0.5555883 ]\n",
            " [0.42431607 0.82619515 0.88122582]]\n"
          ]
        }
      ]
    },
    {
      "cell_type": "markdown",
      "source": [
        "# **RIDGE REGRESSION**"
      ],
      "metadata": {
        "id": "YNFYcxZjYy4d"
      }
    },
    {
      "cell_type": "code",
      "source": [],
      "metadata": {
        "id": "NcXS3R6wZJor"
      },
      "execution_count": null,
      "outputs": []
    },
    {
      "cell_type": "code",
      "source": [
        "from sklearn.linear_model import Ridge\n",
        "model2=Ridge(alpha=0.01)\n",
        "model2.fit(X_train,y_train)\n",
        "rr_y_pred=model2.predict(X_train)\n",
        "rr_r2_score=r2_score(rr_y_pred,y_train)\n",
        "mse_rr = mse(y_train,rr_y_pred)\n",
        "\n",
        "print(\"r2_score of Ridge Regression : \",rr_r2_score)\n",
        "print(\"root mean square error of Ridge Regression : \",math.sqrt(mse_rr))\n",
        "print(\"mean square error of  Ridge Regression : \",mse_rr)\n",
        "print(rr_y_pred)"
      ],
      "metadata": {
        "id": "hg0dNdgPFFG_",
        "colab": {
          "base_uri": "https://localhost:8080/"
        },
        "outputId": "158ce069-6981-435d-d5e9-3e0b88d8b0b6"
      },
      "execution_count": null,
      "outputs": [
        {
          "output_type": "stream",
          "name": "stdout",
          "text": [
            "r2_score of Ridge Regression :  0.9990530285802691\n",
            "root mean square error of Ridge Regression :  0.008893123018592526\n",
            "mean square error of  Ridge Regression :  7.908763702382025e-05\n",
            "[[0.08671357 0.33190541 0.53816568]\n",
            " [0.55196502 0.86559731 0.64437592]\n",
            " [0.25649013 0.05818864 0.11020904]\n",
            " ...\n",
            " [0.84264078 0.89123525 0.81997881]\n",
            " [0.48100251 0.17624786 0.55558756]\n",
            " [0.42432063 0.82618823 0.88122047]]\n"
          ]
        }
      ]
    },
    {
      "cell_type": "code",
      "source": [
        "ridge_hyperparameters = {'alpha': [0.01, 0.1, 1, 10, 100]}\n",
        "model = model2\n",
        "ridge_grid_search = GridSearchCV(model, ridge_hyperparameters, cv=5)\n",
        "ridge_grid_search.fit(X_train, y_train)\n",
        "print(\"Best hyperparameters: \", ridge_grid_search.best_params_)\n",
        "print(\"Best score: \", ridge_grid_search.best_score_)\n",
        "\n"
      ],
      "metadata": {
        "colab": {
          "base_uri": "https://localhost:8080/"
        },
        "id": "hXi8XiN2ZMjz",
        "outputId": "b20320af-c7c6-4084-ac26-75349c24976b"
      },
      "execution_count": null,
      "outputs": [
        {
          "output_type": "stream",
          "name": "stdout",
          "text": [
            "Best hyperparameters:  {'alpha': 0.01}\n",
            "Best score:  0.9990537740184088\n"
          ]
        }
      ]
    },
    {
      "cell_type": "markdown",
      "source": [
        "# **LASSO REGRESSION**"
      ],
      "metadata": {
        "id": "YFRrhW_LZfLe"
      }
    },
    {
      "cell_type": "code",
      "source": [
        "from sklearn.linear_model import Lasso\n",
        "\n",
        "\n",
        "model3=Lasso(alpha=0.01,max_iter=1000)\n",
        "model3.fit(X_train,y_train)\n",
        "ls_y_pred=model3.predict(X_train)\n",
        "ls_r2_score=r2_score(ls_y_pred,y_train)\n",
        "mse_ls = mse(y_train,ls_y_pred)\n",
        "\n",
        "print(\"r2_score of Lasso Regression : \",ls_r2_score)\n",
        "print(\"mean square error of Lasso Regression \",mse_ls)\n",
        "print(\"root mean square error of Lasso Regression : \",math.sqrt(mse_ls))\n",
        "print(ls_y_pred)"
      ],
      "metadata": {
        "colab": {
          "base_uri": "https://localhost:8080/"
        },
        "id": "ntmktHkQIutY",
        "outputId": "ac12cbd2-4c3f-4c12-bc91-10ce5efbaf08"
      },
      "execution_count": null,
      "outputs": [
        {
          "output_type": "stream",
          "name": "stdout",
          "text": [
            "r2_score of Lasso Regression :  0.9801927335947643\n",
            "mean square error of Lasso Regression  0.0012915835745796135\n",
            "root mean square error of Lasso Regression :  0.03593860841184051\n",
            "[[0.13643609 0.35243813 0.53367669]\n",
            " [0.54516604 0.82193815 0.62700192]\n",
            " [0.28678097 0.11161777 0.1568551 ]\n",
            " ...\n",
            " [0.80115702 0.84421723 0.78197613]\n",
            " [0.48403204 0.2149736  0.54966015]\n",
            " [0.4327236  0.78720106 0.83520354]]\n"
          ]
        }
      ]
    },
    {
      "cell_type": "code",
      "source": [
        "lasso_hyperparameters ={'alpha': [0.01, 0.1, 1, 10, 100], 'max_iter': [1000, 5000, 10000]}\n",
        "model = model3\n",
        "lasso_grid_search = GridSearchCV(model, lasso_hyperparameters, cv=5)\n",
        "lasso_grid_search.fit(X_train, y_train)\n",
        "print(\"Best hyperparameters: \", lasso_grid_search.best_params_)\n",
        "print(\"Best score: \", lasso_grid_search.best_score_)\n",
        "\n"
      ],
      "metadata": {
        "colab": {
          "base_uri": "https://localhost:8080/"
        },
        "id": "H6CDHPWuZrWC",
        "outputId": "33715040-1e42-4775-e2a8-86ebad4dda0b"
      },
      "execution_count": null,
      "outputs": [
        {
          "output_type": "stream",
          "name": "stdout",
          "text": [
            "Best hyperparameters:  {'alpha': 0.01, 'max_iter': 1000}\n",
            "Best score:  0.9846678085538819\n"
          ]
        }
      ]
    },
    {
      "cell_type": "code",
      "source": [
        "print(\"LINEAR REGRESSION : \",lr_r2_score)\n",
        "print(\"RIDGE REGRESSION : \",ridge_grid_search.best_score_)\n",
        "print(\"LASSO REGRESSION : \",lasso_grid_search.best_score_)\n",
        "print(\"Ridge Regression model performed slightly better than the other two models wo\",max(lr_r2_score,ridge_grid_search.best_score_,lasso_grid_search.best_score_))"
      ],
      "metadata": {
        "colab": {
          "base_uri": "https://localhost:8080/"
        },
        "id": "L71l3AolUGmx",
        "outputId": "5af01c0a-2589-47de-b61a-1d94bfa27fd5"
      },
      "execution_count": null,
      "outputs": [
        {
          "output_type": "stream",
          "name": "stdout",
          "text": [
            "LINEAR REGRESSION :  0.9990530554004003\n",
            "RIDGE REGRESSION :  0.9990537740184088\n",
            "LASSO REGRESSION :  0.9846678085538819\n",
            "0.9990537740184088\n"
          ]
        }
      ]
    }
  ]
}